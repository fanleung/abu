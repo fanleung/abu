{
 "cells": [
  {
   "cell_type": "markdown",
   "metadata": {},
   "source": [
    "# 2.1 基础语法与数据结构"
   ]
  },
  {
   "cell_type": "code",
   "execution_count": 1,
   "metadata": {},
   "outputs": [
    {
     "data": {
      "text/plain": [
       "int"
      ]
     },
     "execution_count": 1,
     "metadata": {},
     "output_type": "execute_result"
    }
   ],
   "source": [
    "i = 1\n",
    "type(i)"
   ]
  },
  {
   "cell_type": "code",
   "execution_count": 2,
   "metadata": {},
   "outputs": [
    {
     "data": {
      "text/plain": [
       "float"
      ]
     },
     "execution_count": 2,
     "metadata": {},
     "output_type": "execute_result"
    }
   ],
   "source": [
    "f = 1.1\n",
    "type(f)"
   ]
  },
  {
   "cell_type": "code",
   "execution_count": 3,
   "metadata": {},
   "outputs": [
    {
     "data": {
      "text/plain": [
       "str"
      ]
     },
     "execution_count": 3,
     "metadata": {},
     "output_type": "execute_result"
    }
   ],
   "source": [
    "price_str = '30.14, 29.58, 26.36, 32.56, 32.82'\n",
    "type(price_str)"
   ]
  },
  {
   "cell_type": "code",
   "execution_count": 4,
   "metadata": {},
   "outputs": [
    {
     "data": {
      "text/plain": [
       "True"
      ]
     },
     "execution_count": 4,
     "metadata": {},
     "output_type": "execute_result"
    }
   ],
   "source": [
    "isinstance(price_str, str)"
   ]
  },
  {
   "cell_type": "code",
   "execution_count": 5,
   "metadata": {},
   "outputs": [
    {
     "name": "stdout",
     "output_type": "stream",
     "text": [
      "id = 3031610646576\n"
     ]
    }
   ],
   "source": [
    "print('id = {}'.format(id(price_str)))"
   ]
  },
  {
   "cell_type": "code",
   "execution_count": 6,
   "metadata": {},
   "outputs": [
    {
     "name": "stdout",
     "output_type": "stream",
     "text": [
      "id = 3031610888720\n"
     ]
    }
   ],
   "source": [
    "price_str = price_str.replace(' ', '')\n",
    "print('id = {}'.format(id(price_str)))"
   ]
  },
  {
   "cell_type": "code",
   "execution_count": 7,
   "metadata": {},
   "outputs": [
    {
     "name": "stdout",
     "output_type": "stream",
     "text": [
      "30.14,29.58,26.36,32.56,32.82\n"
     ]
    }
   ],
   "source": [
    "print(price_str)"
   ]
  },
  {
   "cell_type": "code",
   "execution_count": 8,
   "metadata": {},
   "outputs": [
    {
     "name": "stdout",
     "output_type": "stream",
     "text": [
      "['30.14', '29.58', '26.36', '32.56', '32.82']\n"
     ]
    }
   ],
   "source": [
    "price_array = price_str.split(',')\n",
    "print(price_array)"
   ]
  },
  {
   "cell_type": "code",
   "execution_count": 9,
   "metadata": {},
   "outputs": [
    {
     "data": {
      "text/plain": [
       "['20190410', '20190411', '20190412', '20190413', '20190414']"
      ]
     },
     "execution_count": 9,
     "metadata": {},
     "output_type": "execute_result"
    }
   ],
   "source": [
    "# 4.列表推导式\n",
    "date_base = 20190410\n",
    "date_array = [str(date_base + ind) for ind, _ in enumerate(price_array)]\n",
    "date_array"
   ]
  },
  {
   "cell_type": "code",
   "execution_count": 10,
   "metadata": {},
   "outputs": [
    {
     "data": {
      "text/plain": [
       "[('20190410', '30.14'),\n",
       " ('20190411', '29.58'),\n",
       " ('20190412', '26.36'),\n",
       " ('20190413', '32.56'),\n",
       " ('20190414', '32.82')]"
      ]
     },
     "execution_count": 10,
     "metadata": {},
     "output_type": "execute_result"
    }
   ],
   "source": [
    "stock_tuple_list = [(date, price) for date, price in zip(date_array, price_array)]\n",
    "stock_tuple_list"
   ]
  },
  {
   "cell_type": "code",
   "execution_count": 11,
   "metadata": {},
   "outputs": [
    {
     "data": {
      "text/plain": [
       "[stock(date='20190410', price='30.14'),\n",
       " stock(date='20190411', price='29.58'),\n",
       " stock(date='20190412', price='26.36'),\n",
       " stock(date='20190413', price='32.56'),\n",
       " stock(date='20190414', price='32.82')]"
      ]
     },
     "execution_count": 11,
     "metadata": {},
     "output_type": "execute_result"
    }
   ],
   "source": [
    "# 5.可命名元组\n",
    "from collections import namedtuple\n",
    "stock_namedtuple = namedtuple('stock', ('date', 'price'))\n",
    "stock_namedtuple_list = [stock_namedtuple(date, price) for date, price in zip(date_array, price_array)]\n",
    "stock_namedtuple_list"
   ]
  },
  {
   "cell_type": "code",
   "execution_count": 12,
   "metadata": {},
   "outputs": [
    {
     "data": {
      "text/plain": [
       "{'20190410': '30.14',\n",
       " '20190411': '29.58',\n",
       " '20190412': '26.36',\n",
       " '20190413': '32.56',\n",
       " '20190414': '32.82'}"
      ]
     },
     "execution_count": 12,
     "metadata": {},
     "output_type": "execute_result"
    }
   ],
   "source": [
    "# 字典推导式 {key : value for in}\n",
    "stock_dict = {date: price for date, price in zip(date_array, price_array)}\n",
    "stock_dict"
   ]
  },
  {
   "cell_type": "code",
   "execution_count": 13,
   "metadata": {},
   "outputs": [
    {
     "data": {
      "text/plain": [
       "dict_values(['30.14', '29.58', '26.36', '32.56', '32.82'])"
      ]
     },
     "execution_count": 13,
     "metadata": {},
     "output_type": "execute_result"
    }
   ],
   "source": [
    "stock_dict.values()"
   ]
  },
  {
   "cell_type": "code",
   "execution_count": 14,
   "metadata": {},
   "outputs": [
    {
     "data": {
      "text/plain": [
       "dict_keys(['20190410', '20190411', '20190412', '20190413', '20190414'])"
      ]
     },
     "execution_count": 14,
     "metadata": {},
     "output_type": "execute_result"
    }
   ],
   "source": [
    "stock_dict.keys()"
   ]
  },
  {
   "cell_type": "code",
   "execution_count": 15,
   "metadata": {},
   "outputs": [
    {
     "data": {
      "text/plain": [
       "OrderedDict([('20190410', '30.14'),\n",
       "             ('20190411', '29.58'),\n",
       "             ('20190412', '26.36'),\n",
       "             ('20190413', '32.56'),\n",
       "             ('20190414', '32.82')])"
      ]
     },
     "execution_count": 15,
     "metadata": {},
     "output_type": "execute_result"
    }
   ],
   "source": [
    "# 有序字典 OrderedDict\n",
    "from collections import OrderedDict\n",
    "stock_dict = OrderedDict((date, price) for date, price in zip(date_array, price_array))\n",
    "stock_dict"
   ]
  },
  {
   "cell_type": "markdown",
   "metadata": {},
   "source": [
    "# 2.2 函数"
   ]
  },
  {
   "cell_type": "code",
   "execution_count": 16,
   "metadata": {},
   "outputs": [
    {
     "data": {
      "text/plain": [
       "'20190410'"
      ]
     },
     "execution_count": 16,
     "metadata": {},
     "output_type": "execute_result"
    }
   ],
   "source": [
    "# 内置函数\n",
    "min(stock_dict)"
   ]
  },
  {
   "cell_type": "code",
   "execution_count": 17,
   "metadata": {},
   "outputs": [
    {
     "data": {
      "text/plain": [
       "('26.36', '20190412')"
      ]
     },
     "execution_count": 17,
     "metadata": {},
     "output_type": "execute_result"
    }
   ],
   "source": [
    "min(zip(stock_dict.values(), stock_dict.keys()))"
   ]
  },
  {
   "cell_type": "code",
   "execution_count": 18,
   "metadata": {},
   "outputs": [
    {
     "name": "stdout",
     "output_type": "stream",
     "text": [
      "('32.56', '20190413')\n"
     ]
    }
   ],
   "source": [
    "# 自定义函数:查找第二大的数字\n",
    "def find_second_max(dict_array):\n",
    "    stock_prices_sorted = sorted(zip(stock_dict.values(), stock_dict.keys()))\n",
    "    # 第二大值也就是倒数第二个数\n",
    "    return stock_prices_sorted[-2]\n",
    "\n",
    "# 系统函数callable()验证是否为一个可调用(call)的函数\n",
    "if callable(find_second_max):\n",
    "    print(find_second_max(stock_dict))"
   ]
  },
  {
   "cell_type": "code",
   "execution_count": 19,
   "metadata": {},
   "outputs": [
    {
     "data": {
      "text/plain": [
       "('32.56', '20190413')"
      ]
     },
     "execution_count": 19,
     "metadata": {},
     "output_type": "execute_result"
    }
   ],
   "source": [
    "# lambda 函数\n",
    "find_second_max_lambda = lambda dict_array: sorted(zip(stock_dict.values(), stock_dict.keys()))[-2]\n",
    "find_second_max_lambda(stock_dict)"
   ]
  },
  {
   "cell_type": "code",
   "execution_count": 20,
   "metadata": {},
   "outputs": [
    {
     "name": "stdout",
     "output_type": "stream",
     "text": [
      "[30.14, 29.58, 26.36, 32.56, 32.82]\n"
     ]
    },
    {
     "data": {
      "text/plain": [
       "[(30.14, 29.58), (29.58, 26.36), (26.36, 32.56), (32.56, 32.82)]"
      ]
     },
     "execution_count": 20,
     "metadata": {},
     "output_type": "execute_result"
    }
   ],
   "source": [
    "# 2.2.3 高阶函数\n",
    "# 从收盘价格，推导每天的涨跌幅度\n",
    "# 将字符串的的价格通过列表推导式显示转换为float类型\n",
    "# 由于stock_dict是OrderedDict所以才可以直接\n",
    "# 使用stock_dict.values()获取有序日期的收盘价格\n",
    "price_float_array = [float(price_str) for price_str in stock_dict.values()]\n",
    "print(price_float_array)\n",
    "# 通过将时间平移形成两个错开的收盘价序列，通过zip打包成为一个新的序列，\n",
    "# 通过[:-1]:从第0个到倒数第二个，[1:]：从第一个到最后一个 错开形成相邻\n",
    "# 组成的序列每个元素为相邻的两个收盘价格\n",
    "pp_array = [(price1, price2) for price1, price2 in zip(price_float_array[:-1], price_float_array[1:])]\n",
    "pp_array"
   ]
  },
  {
   "cell_type": "code",
   "execution_count": 21,
   "metadata": {},
   "outputs": [
    {
     "data": {
      "text/plain": [
       "[0, -0.019, -0.109, 0.235, 0.008]"
      ]
     },
     "execution_count": 21,
     "metadata": {},
     "output_type": "execute_result"
    }
   ],
   "source": [
    "from functools import reduce\n",
    "# 使用map(), reduce() 和 lambda 推导每天的涨跌幅度\n",
    "# round 将 float 保留几位小数， 以下保留3位 round(1.234, 2) = 1.23\n",
    "change_array = list(map(lambda pp: reduce(lambda a, b: round((b - a) / a, 3), pp), pp_array))\n",
    "# list insert插入数据，将第一天的涨跌幅设置为0\n",
    "change_array.insert(0, 0)\n",
    "change_array\n",
    "\n"
   ]
  },
  {
   "cell_type": "code",
   "execution_count": 22,
   "metadata": {},
   "outputs": [
    {
     "data": {
      "text/plain": [
       "3.125"
      ]
     },
     "execution_count": 22,
     "metadata": {},
     "output_type": "execute_result"
    }
   ],
   "source": [
    "reduce(lambda x,y:(x+y)/2, [1,2,3,4])\n",
    "## (1+2)/2  = 1.5\n",
    "## (1.5+3)/2 = 2.25\n",
    "## (2.25+4)/2 = 3.125"
   ]
  },
  {
   "cell_type": "code",
   "execution_count": 23,
   "metadata": {},
   "outputs": [
    {
     "data": {
      "text/plain": [
       "OrderedDict([('20190410', stock(date='20190410', price='30.14', change=0)),\n",
       "             ('20190411',\n",
       "              stock(date='20190411', price='29.58', change=-0.019)),\n",
       "             ('20190412',\n",
       "              stock(date='20190412', price='26.36', change=-0.109)),\n",
       "             ('20190413', stock(date='20190413', price='32.56', change=0.235)),\n",
       "             ('20190414',\n",
       "              stock(date='20190414', price='32.82', change=0.008))])"
      ]
     },
     "execution_count": 23,
     "metadata": {},
     "output_type": "execute_result"
    }
   ],
   "source": [
    "# 使用 namedtuple 重新构建数据结构\n",
    "stock_namedtuple = namedtuple('stock', ('date', 'price', 'change'))\n",
    "# 通过 zip 分别从 date_array, price_array, change_array 拿数据组成\n",
    "# stock_namedtuple 可以以 date 作为key 组成 OrderedDict\n",
    "stock_dict = OrderedDict((date, stock_namedtuple(date, price, change)) for date, price, change in\n",
    "                         zip(date_array, price_array, change_array))\n",
    "stock_dict"
   ]
  },
  {
   "cell_type": "code",
   "execution_count": 24,
   "metadata": {},
   "outputs": [
    {
     "data": {
      "text/plain": [
       "[stock(date='20190413', price='32.56', change=0.235),\n",
       " stock(date='20190414', price='32.82', change=0.008)]"
      ]
     },
     "execution_count": 24,
     "metadata": {},
     "output_type": "execute_result"
    }
   ],
   "source": [
    "# 使用高阶函数 filter()进行筛选， 以下代码筛选除 上涨的交易日\n",
    "up_days = list(filter(lambda day: day.change > 0, stock_dict.values()))\n",
    "up_days"
   ]
  },
  {
   "cell_type": "code",
   "execution_count": 25,
   "metadata": {},
   "outputs": [
    {
     "data": {
      "text/plain": [
       "[stock(date='20190411', price='29.58', change=-0.019),\n",
       " stock(date='20190412', price='26.36', change=-0.109)]"
      ]
     },
     "execution_count": 25,
     "metadata": {},
     "output_type": "execute_result"
    }
   ],
   "source": [
    "# 使用高阶函数 filter()进行筛选， 以下代码筛选除 下跌的交易日\n",
    "up_days = list(filter(lambda day: day.change < 0, stock_dict.values()))\n",
    "up_days"
   ]
  },
  {
   "cell_type": "code",
   "execution_count": 26,
   "metadata": {},
   "outputs": [
    {
     "name": "stdout",
     "output_type": "stream",
     "text": [
      "所有上涨的交易日:[stock(date='20190413', price='32.56', change=0.235), stock(date='20190414', price='32.82', change=0.008)]\n",
      "所有下跌的交易日:[stock(date='20190411', price='29.58', change=-0.019), stock(date='20190412', price='26.36', change=-0.109)]\n",
      "计算所有上涨的总和：0.243\n",
      "计算所有下跌的总和：-0.128\n"
     ]
    }
   ],
   "source": [
    "#\n",
    "def filter_stock(stock_array_dict, want_up = True, want_calc_sum = False):\n",
    "    if not isinstance(stock_array_dict, OrderedDict):\n",
    "        # 如果类型不符合则产生错误\n",
    "        raise TypeError('stock_array_dict must be OrderedDict!')\n",
    "        \n",
    "    # python 中三目表达式的写法\n",
    "    filter_func = (lambda day: day.change>0) if want_up else (lambda day:day.change < 0)\n",
    "    \n",
    "    # 使用fliter_func 函数作为筛选函数\n",
    "    want_days = list(filter(filter_func, stock_array_dict.values()))\n",
    "\n",
    "    if not want_calc_sum:\n",
    "        return want_days\n",
    "    \n",
    "    # 需要计算涨跌幅和\n",
    "    change_sum = 0.0\n",
    "    for day in want_days:\n",
    "        change_sum += day.change\n",
    "    return change_sum\n",
    "\n",
    "# 使用示例\n",
    "# 全部使用默认参数\n",
    "print('所有上涨的交易日:{}'.format(filter_stock(stock_dict)))\n",
    "\n",
    "# want_up = False\n",
    "print('所有下跌的交易日:{}'.format(filter_stock(stock_dict, want_up = False)))\n",
    "\n",
    "# want_calc_sum = True \n",
    "print('计算所有上涨的总和：{}'.format(filter_stock(stock_dict, want_calc_sum = True)))\n",
    "\n",
    "# 计算所有下跌的总和\n",
    "print('计算所有下跌的总和：{}'.format(filter_stock(stock_dict, want_up = False, want_calc_sum = True)))"
   ]
  },
  {
   "cell_type": "code",
   "execution_count": 27,
   "metadata": {},
   "outputs": [
    {
     "name": "stdout",
     "output_type": "stream",
     "text": [
      "所有上涨的交易日:[stock(date='20190413', price='32.56', change=0.235), stock(date='20190414', price='32.82', change=0.008)]\n",
      "所有下跌的交易日:[stock(date='20190411', price='29.58', change=-0.019), stock(date='20190412', price='26.36', change=-0.109)]\n",
      "计算所有上涨的总和：0.243\n",
      "计算所有下跌的总和：-0.128\n"
     ]
    }
   ],
   "source": [
    "# 2.2.4 偏函数\n",
    "from functools import partial\n",
    "# 筛选上涨交易日\n",
    "filter_stock_up_days = partial(filter_stock, want_up = True, want_calc_sum = False)\n",
    "\n",
    "# 筛选下跌交易日\n",
    "filter_stock_down_days = partial(filter_stock, want_up = False, want_calc_sum = False)\n",
    "\n",
    "# 筛选上涨交易日\n",
    "filter_stock_up_sums = partial(filter_stock, want_up = True, want_calc_sum = True)\n",
    "\n",
    "# 筛选上涨交易日\n",
    "filter_stock_down_sums = partial(filter_stock, want_up = False, want_calc_sum = True)\n",
    "\n",
    "print('所有上涨的交易日:{}'.format(filter_stock_up_days(stock_dict)))\n",
    "print('所有下跌的交易日:{}'.format(filter_stock_down_days(stock_dict)))\n",
    "print('计算所有上涨的总和：{}'.format(filter_stock_up_sums(stock_dict)))\n",
    "print('计算所有下跌的总和：{}'.format(filter_stock_down_sums(stock_dict)))\n"
   ]
  },
  {
   "cell_type": "code",
   "execution_count": 28,
   "metadata": {},
   "outputs": [],
   "source": [
    "# 2.3 面向对象\n",
    "## 单下划线表示 protect\n",
    "## 双下划线表示 private\n",
    "from collections import namedtuple\n",
    "from collections import OrderedDict\n",
    "class StockTradeDays(object):\n",
    "    def __init__(self, price_array, start_date, date_array=None):\n",
    "        # 私有价格序列\n",
    "        self.__price_array = price_array\n",
    "        # 私有日期序列\n",
    "        self.__date_array = self._init_days(start_date, date_array)\n",
    "        # 私有涨跌幅序列\n",
    "        self.__change_array = self.__init_change()\n",
    "        # 进行OrderedDict 的组装\n",
    "        self.stock_dict = self._init_stock_dict()\n",
    "        \n",
    "    def __init_change(self):\n",
    "        \"\"\"\n",
    "        从price_array 生成 change_array\n",
    "        : return :\n",
    "        \"\"\"\n",
    "        price_float_array = [float(price_str) for price_str in self.__price_array]\n",
    "        # 通过将时间平移形成两个错开的收盘价序列，通过zip()函数打包成为一个新的序列\n",
    "        pp_array = [(price1, price2) for price1, price2 in zip(price_float_array[:-1], price_float_array[1:])]\n",
    "        # 涨幅度\n",
    "        change_array = list(map(lambda pp:reduce(lambda a,b:round((b-a)/a, 3),pp), pp_array))\n",
    "        change_array.insert(0,0)\n",
    "        return change_array\n",
    "    \n",
    "    def _init_days(self, start_date, date_array):\n",
    "        \"\"\"\n",
    "        protect 方法，\n",
    "        :param start_date: 初始日期\n",
    "        :param date_array: 给定日期序列\n",
    "        :return:\n",
    "        \"\"\"\n",
    "        if date_array is None:\n",
    "            # 由start_date 和 self.__price_array 来确定日期序列\n",
    "            date_array = [str(start_date + ind) for ind, _ in enumerate(self.__price_array)]\n",
    "        else:\n",
    "            # 稍后的内容会使用外部直接设置的方式\n",
    "            # 如果外面设置了date_array，就直接转换str类型组成新date_array\n",
    "            date_array = [str(date) for date in date_array]\n",
    "        return date_array\n",
    "    \n",
    "    def _init_stock_dict(self):\n",
    "        \"\"\"\n",
    "        使用namedtuple, OrderedDict 将结果合并\n",
    "        :return\n",
    "        \"\"\"\n",
    "        stock_namedtuple = namedtuple('stock', ('date', 'price', 'change'))\n",
    "        # 使用以被赋值的__date_array等进行OrderedDict的组装\n",
    "        stock_dict = OrderedDict(\n",
    "            (date, stock_namedtuple(date, price, change))\n",
    "            for date, price, change in\n",
    "            zip(self.__date_array, self.__price_array,\n",
    "                self.__change_array))\n",
    "        return stock_dict\n",
    "    \n",
    "    def filter_stock(self, want_up=True, want_calc_sum=False):\n",
    "        \"\"\"\n",
    "        筛选结果子集\n",
    "        :param want_up: 是否筛选上涨\n",
    "        :param want_calc：是否筛选涨跌幅和\n",
    "        :return \n",
    "        \"\"\"\n",
    "        # python 中三目表达式的写法\n",
    "        filter_func = (lambda day: day.change>0) if want_up else (lambda day:day.change < 0)\n",
    "\n",
    "        # 使用fliter_func 函数作为筛选函数\n",
    "        want_days = list(filter(filter_func, self.stock_dict.values()))\n",
    "\n",
    "        if not want_calc_sum:\n",
    "            return want_days\n",
    "\n",
    "        # 需要计算涨跌幅和\n",
    "        change_sum = 0.0\n",
    "        for day in want_days:\n",
    "            change_sum += day.change\n",
    "        return change_sum\n",
    "    \n",
    "    \"\"\"\n",
    "        下面的__str__，__iter__， __getitem__， __len__稍后会详细讲解作\n",
    "    \"\"\"\n",
    "\n",
    "    def __str__(self):\n",
    "        return str(self.stock_dict)\n",
    "\n",
    "    __repr__ = __str__\n",
    "\n",
    "    def __iter__(self):\n",
    "        \"\"\"\n",
    "        通过代理stock_dict的迭代，yield元素\n",
    "        :return:\n",
    "        \"\"\"\n",
    "        for key in self.stock_dict:\n",
    "            yield self.stock_dict[key]\n",
    "\n",
    "    def __getitem__(self, ind):\n",
    "        date_key = self.__date_array[ind]\n",
    "        return self.stock_dict[date_key]\n",
    "\n",
    "    def __len__(self):\n",
    "        return len(self.stock_dict)"
   ]
  },
  {
   "cell_type": "code",
   "execution_count": 29,
   "metadata": {},
   "outputs": [
    {
     "data": {
      "text/plain": [
       "OrderedDict([('20170118', stock(date='20170118', price='30.14', change=0)), ('20170119', stock(date='20170119', price='29.58', change=-0.019)), ('20170120', stock(date='20170120', price='26.36', change=-0.109)), ('20170121', stock(date='20170121', price='32.56', change=0.235)), ('20170122', stock(date='20170122', price='32.82', change=0.008))])"
      ]
     },
     "execution_count": 29,
     "metadata": {},
     "output_type": "execute_result"
    }
   ],
   "source": [
    "price_array = '30.14,29.58,26.36,32.56,32.82'.split(',')\n",
    "data_base = 20170118\n",
    "# 从 StockTradeDays类初始化一个实例对象 trade_days, 内部会调用 __init__\n",
    "trade_days = StockTradeDays(price_array, data_base)\n",
    "trade_days"
   ]
  },
  {
   "cell_type": "code",
   "execution_count": 30,
   "metadata": {},
   "outputs": [
    {
     "name": "stdout",
     "output_type": "stream",
     "text": [
      "trade_days 对象长度：5\n"
     ]
    }
   ],
   "source": [
    "print('trade_days 对象长度：{}'.format(len(trade_days)))"
   ]
  },
  {
   "cell_type": "code",
   "execution_count": 31,
   "metadata": {},
   "outputs": [
    {
     "name": "stdout",
     "output_type": "stream",
     "text": [
      "stock(date='20170118', price='30.14', change=0)\n",
      "stock(date='20170119', price='29.58', change=-0.019)\n",
      "stock(date='20170120', price='26.36', change=-0.109)\n",
      "stock(date='20170121', price='32.56', change=0.235)\n",
      "stock(date='20170122', price='32.82', change=0.008)\n"
     ]
    }
   ],
   "source": [
    "from collections import Iterable\n",
    "if isinstance(trade_days, Iterable):\n",
    "    for day in trade_days:\n",
    "        print(day)"
   ]
  },
  {
   "cell_type": "code",
   "execution_count": 32,
   "metadata": {},
   "outputs": [
    {
     "data": {
      "text/plain": [
       "[stock(date='20170121', price='32.56', change=0.235),\n",
       " stock(date='20170122', price='32.82', change=0.008)]"
      ]
     },
     "execution_count": 32,
     "metadata": {},
     "output_type": "execute_result"
    }
   ],
   "source": [
    "trade_days.filter_stock()"
   ]
  },
  {
   "cell_type": "code",
   "execution_count": 38,
   "metadata": {},
   "outputs": [
    {
     "data": {
      "text/plain": [
       "([310.17, 308.63, 314.07, 322.83, 318.89],\n",
       " [20170426, 20170427, 20170428, 20170501, 20170502])"
      ]
     },
     "execution_count": 38,
     "metadata": {},
     "output_type": "execute_result"
    }
   ],
   "source": [
    "from abupy import ABuSymbolPd\n",
    "# 两年的TSLA收盘数据\n",
    "price_array = ABuSymbolPd.make_kl_df('TSLA', n_folds = 2).close.tolist()\n",
    "# 两年的TSLA收盘日期 to list，这里的写法不考虑效率，只做演示使用\n",
    "date_array = ABuSymbolPd.make_kl_df('TSLA', n_folds = 2).date.tolist()\n",
    "price_array[:5], date_array[:5]"
   ]
  },
  {
   "cell_type": "code",
   "execution_count": 40,
   "metadata": {},
   "outputs": [
    {
     "name": "stdout",
     "output_type": "stream",
     "text": [
      "trade_days 对象长度为：424\n",
      "最后一天交易数据为：stock(date='20181231', price=326.09, change=0.0)\n"
     ]
    }
   ],
   "source": [
    "trade_days = StockTradeDays(price_array, date_base, date_array)\n",
    "print('trade_days 对象长度为：{}'.format(len(trade_days)))\n",
    "print('最后一天交易数据为：{}'.format(trade_days[-1]))"
   ]
  },
  {
   "cell_type": "code",
   "execution_count": null,
   "metadata": {},
   "outputs": [],
   "source": []
  },
  {
   "cell_type": "code",
   "execution_count": null,
   "metadata": {},
   "outputs": [],
   "source": []
  },
  {
   "cell_type": "code",
   "execution_count": null,
   "metadata": {},
   "outputs": [],
   "source": []
  },
  {
   "cell_type": "code",
   "execution_count": null,
   "metadata": {},
   "outputs": [],
   "source": []
  },
  {
   "cell_type": "code",
   "execution_count": null,
   "metadata": {},
   "outputs": [],
   "source": []
  }
 ],
 "metadata": {
  "kernelspec": {
   "display_name": "Python 3",
   "language": "python",
   "name": "python3"
  },
  "language_info": {
   "codemirror_mode": {
    "name": "ipython",
    "version": 3
   },
   "file_extension": ".py",
   "mimetype": "text/x-python",
   "name": "python",
   "nbconvert_exporter": "python",
   "pygments_lexer": "ipython3",
   "version": "3.7.1"
  }
 },
 "nbformat": 4,
 "nbformat_minor": 2
}
